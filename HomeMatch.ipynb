{
 "cells": [
  {
   "cell_type": "markdown",
   "id": "0ba7f9ad",
   "metadata": {},
   "source": [
    "# Project Setup"
   ]
  },
  {
   "cell_type": "markdown",
   "id": "b971ec83",
   "metadata": {},
   "source": [
    "## Run this code to install required libraries"
   ]
  },
  {
   "cell_type": "code",
   "execution_count": 51,
   "id": "90f5c746",
   "metadata": {},
   "outputs": [],
   "source": [
    "!pip install -U --quiet lancedb pandas langchain-community"
   ]
  },
  {
   "cell_type": "code",
   "execution_count": 52,
   "id": "ec36d8a3",
   "metadata": {},
   "outputs": [],
   "source": [
    "import os\n",
    "#os.environ[\"OPENAI_API_KEY\"] = \"\""
   ]
  },
  {
   "cell_type": "code",
   "execution_count": 2,
   "id": "846d0c27-7b9e-41ee-a189-ac207eed270f",
   "metadata": {},
   "outputs": [
    {
     "name": "stdout",
     "output_type": "stream",
     "text": [
      "Requirement already satisfied: lancedb in /opt/homebrew/anaconda3/envs/home_agent/lib/python3.12/site-packages (0.8.2)\n",
      "Requirement already satisfied: deprecation in /opt/homebrew/anaconda3/envs/home_agent/lib/python3.12/site-packages (from lancedb) (2.1.0)\n",
      "Requirement already satisfied: pylance==0.12.1 in /opt/homebrew/anaconda3/envs/home_agent/lib/python3.12/site-packages (from lancedb) (0.12.1)\n",
      "Requirement already satisfied: ratelimiter~=1.0 in /opt/homebrew/anaconda3/envs/home_agent/lib/python3.12/site-packages (from lancedb) (1.2.0.post0)\n",
      "Requirement already satisfied: requests>=2.31.0 in /opt/homebrew/anaconda3/envs/home_agent/lib/python3.12/site-packages (from lancedb) (2.32.3)\n",
      "Requirement already satisfied: retry>=0.9.2 in /opt/homebrew/anaconda3/envs/home_agent/lib/python3.12/site-packages (from lancedb) (0.9.2)\n",
      "Requirement already satisfied: tqdm>=4.27.0 in /opt/homebrew/anaconda3/envs/home_agent/lib/python3.12/site-packages (from lancedb) (4.66.4)\n",
      "Requirement already satisfied: pydantic>=1.10 in /opt/homebrew/anaconda3/envs/home_agent/lib/python3.12/site-packages (from lancedb) (2.7.3)\n",
      "Requirement already satisfied: attrs>=21.3.0 in /opt/homebrew/anaconda3/envs/home_agent/lib/python3.12/site-packages (from lancedb) (23.2.0)\n",
      "Requirement already satisfied: packaging in /opt/homebrew/anaconda3/envs/home_agent/lib/python3.12/site-packages (from lancedb) (23.2)\n",
      "Requirement already satisfied: cachetools in /opt/homebrew/anaconda3/envs/home_agent/lib/python3.12/site-packages (from lancedb) (5.3.3)\n",
      "Requirement already satisfied: overrides>=0.7 in /opt/homebrew/anaconda3/envs/home_agent/lib/python3.12/site-packages (from lancedb) (7.7.0)\n",
      "Requirement already satisfied: pyarrow<15.0.1,>=12 in /opt/homebrew/anaconda3/envs/home_agent/lib/python3.12/site-packages (from pylance==0.12.1->lancedb) (15.0.0)\n",
      "Requirement already satisfied: numpy>=1.22 in /opt/homebrew/anaconda3/envs/home_agent/lib/python3.12/site-packages (from pylance==0.12.1->lancedb) (1.26.4)\n",
      "Requirement already satisfied: annotated-types>=0.4.0 in /opt/homebrew/anaconda3/envs/home_agent/lib/python3.12/site-packages (from pydantic>=1.10->lancedb) (0.7.0)\n",
      "Requirement already satisfied: pydantic-core==2.18.4 in /opt/homebrew/anaconda3/envs/home_agent/lib/python3.12/site-packages (from pydantic>=1.10->lancedb) (2.18.4)\n",
      "Requirement already satisfied: typing-extensions>=4.6.1 in /opt/homebrew/anaconda3/envs/home_agent/lib/python3.12/site-packages (from pydantic>=1.10->lancedb) (4.12.2)\n",
      "Requirement already satisfied: charset-normalizer<4,>=2 in /opt/homebrew/anaconda3/envs/home_agent/lib/python3.12/site-packages (from requests>=2.31.0->lancedb) (3.3.2)\n",
      "Requirement already satisfied: idna<4,>=2.5 in /opt/homebrew/anaconda3/envs/home_agent/lib/python3.12/site-packages (from requests>=2.31.0->lancedb) (3.7)\n",
      "Requirement already satisfied: urllib3<3,>=1.21.1 in /opt/homebrew/anaconda3/envs/home_agent/lib/python3.12/site-packages (from requests>=2.31.0->lancedb) (2.2.1)\n",
      "Requirement already satisfied: certifi>=2017.4.17 in /opt/homebrew/anaconda3/envs/home_agent/lib/python3.12/site-packages (from requests>=2.31.0->lancedb) (2024.2.2)\n",
      "Requirement already satisfied: decorator>=3.4.2 in /opt/homebrew/anaconda3/envs/home_agent/lib/python3.12/site-packages (from retry>=0.9.2->lancedb) (5.1.1)\n",
      "Requirement already satisfied: py<2.0.0,>=1.4.26 in /opt/homebrew/anaconda3/envs/home_agent/lib/python3.12/site-packages (from retry>=0.9.2->lancedb) (1.11.0)\n"
     ]
    }
   ],
   "source": [
    "!pip install lancedb;"
   ]
  },
  {
   "cell_type": "code",
   "execution_count": 1,
   "id": "7c2e7293",
   "metadata": {},
   "outputs": [],
   "source": [
    "import os\n",
    "# os.environ[\"OPENAI_API_KEY\"] = \"<paste your key here or specify as environment variable>\""
   ]
  },
  {
   "cell_type": "code",
   "execution_count": 2,
   "id": "6554fd4c",
   "metadata": {},
   "outputs": [],
   "source": [
    "from langchain.llms import OpenAI\n",
    "from langchain.embeddings.openai import OpenAIEmbeddings\n",
    "from langchain.prompts import PromptTemplate\n",
    "from langchain.chains import LLMChain\n",
    "from langchain.output_parsers import PydanticOutputParser\n",
    "from langchain.chains import RetrievalQA, ConversationChain\n",
    "from langchain.chains.question_answering import load_qa_chain\n",
    "from langchain.memory import ConversationSummaryMemory, ConversationBufferMemory, CombinedMemory, ChatMessageHistory\n",
    "from langchain_community.vectorstores.lancedb import LanceDB as vectorstore\n",
    "from pydantic import BaseModel, Field\n",
    "from typing import List, Union, Dict, Any\n",
    "import lancedb\n",
    "from lancedb.pydantic import vector, LanceModel\n",
    "from tqdm import tqdm\n",
    "from itertools import chain\n",
    "import json\n",
    "import pandas as pd"
   ]
  },
  {
   "cell_type": "code",
   "execution_count": 3,
   "id": "9d90f75d",
   "metadata": {},
   "outputs": [
    {
     "name": "stderr",
     "output_type": "stream",
     "text": [
      "/opt/homebrew/anaconda3/envs/home_agent/lib/python3.12/site-packages/langchain_community/llms/openai.py:249: UserWarning: You are trying to use a chat model. This way of initializing it is no longer supported. Instead, please use: `from langchain_community.chat_models import ChatOpenAI`\n",
      "  warnings.warn(\n",
      "/opt/homebrew/anaconda3/envs/home_agent/lib/python3.12/site-packages/langchain_community/llms/openai.py:1072: UserWarning: You are trying to use a chat model. This way of initializing it is no longer supported. Instead, please use: `from langchain_community.chat_models import ChatOpenAI`\n",
      "  warnings.warn(\n"
     ]
    }
   ],
   "source": [
    "model_name = \"gpt-3.5-turbo\"\n",
    "temperature = 0.0\n",
    "llm = OpenAI(model_name=model_name, temperature=temperature, max_tokens = 1500)"
   ]
  },
  {
   "cell_type": "markdown",
   "id": "c36fe3a3",
   "metadata": {},
   "source": [
    "# Synthetic Data Generation\n"
   ]
  },
  {
   "cell_type": "markdown",
   "id": "d9effa96",
   "metadata": {},
   "source": [
    "## Generate a list of Neighborhood names"
   ]
  },
  {
   "cell_type": "code",
   "execution_count": 4,
   "id": "68a5c02a",
   "metadata": {},
   "outputs": [],
   "source": [
    "class Neighborhood(LanceModel):\n",
    "    name: str = Field(description=\"Neighborhood Name\")\n",
    "    description: str = Field(description=\"Neighborhood Description\")\n",
    "        \n",
    "class NeighborhoodList(BaseModel):\n",
    "    neighborhood_list: List[Neighborhood] = Field(description=\"Neighborhood Description\")"
   ]
  },
  {
   "cell_type": "code",
   "execution_count": 5,
   "id": "728e5c0f",
   "metadata": {},
   "outputs": [],
   "source": [
    "neighborhood_parser = PydanticOutputParser(pydantic_object=NeighborhoodList)"
   ]
  },
  {
   "cell_type": "code",
   "execution_count": 6,
   "id": "8f8ef58d",
   "metadata": {},
   "outputs": [],
   "source": [
    "initial_prompt = PromptTemplate(\n",
    "    input_variables=[\"region\", \"state\", \"num_neighborhoods\"],\n",
    "    template=\"Example Results for New York City, New York:\\\n",
    "Upper East Side\\\n",
    "Greenwich Village\\\n",
    "Lower East Side\\\n",
    "Chelsea\\\n",
    "Bedford-Stuyvesant\\\n",
    "Fort Greene\\\n",
    "Clinton Hill\\\n",
    "Brooklyn\\\n",
    "Queens\\\n",
    "Jackson Heights\\\n",
    "\\\n",
    "Instructions: \\\n",
    "List {num_neighborhoods} popular neighborhoods in {region}, {state} including their description.\\\n",
    "Make sure to include neighborhoods within major cities.\\\n",
    "\\\n",
    "{format_instructions}\",\n",
    "    partial_variables={\"format_instructions\": neighborhood_parser.get_format_instructions}\n",
    ")"
   ]
  },
  {
   "cell_type": "code",
   "execution_count": 7,
   "id": "e54a9bd2",
   "metadata": {},
   "outputs": [],
   "source": [
    "region = \"Oahu\"\n",
    "state = \"Hawaii\"\n",
    "num_neighborhoods = 15"
   ]
  },
  {
   "cell_type": "code",
   "execution_count": 8,
   "id": "8fad166f",
   "metadata": {},
   "outputs": [
    {
     "name": "stderr",
     "output_type": "stream",
     "text": [
      "/opt/homebrew/anaconda3/envs/home_agent/lib/python3.12/site-packages/langchain_core/_api/deprecation.py:119: LangChainDeprecationWarning: The method `BaseLLM.__call__` was deprecated in langchain-core 0.1.7 and will be removed in 0.3.0. Use invoke instead.\n",
      "  warn_deprecated(\n"
     ]
    }
   ],
   "source": [
    "response = llm(initial_prompt.format(region=region, state=state, num_neighborhoods=num_neighborhoods))"
   ]
  },
  {
   "cell_type": "code",
   "execution_count": 9,
   "id": "9082a30e",
   "metadata": {},
   "outputs": [],
   "source": [
    "result = json.loads(response)"
   ]
  },
  {
   "cell_type": "code",
   "execution_count": 10,
   "id": "8d7c192e",
   "metadata": {},
   "outputs": [],
   "source": [
    "neighborhood_objs = [Neighborhood(**r) for r in result.get(\"neighborhood_list\")]"
   ]
  },
  {
   "cell_type": "code",
   "execution_count": 11,
   "id": "e80b19a8",
   "metadata": {},
   "outputs": [],
   "source": [
    "neighborhoods = [obj.name for obj in neighborhood_objs]"
   ]
  },
  {
   "cell_type": "code",
   "execution_count": 12,
   "id": "3f99bb12",
   "metadata": {},
   "outputs": [
    {
     "data": {
      "text/plain": [
       "['Waikiki',\n",
       " 'Kailua',\n",
       " 'Kapolei',\n",
       " 'Pearl City',\n",
       " 'Kaneohe',\n",
       " 'Mililani',\n",
       " 'Ewa Beach',\n",
       " 'Wahiawa',\n",
       " 'Aiea',\n",
       " 'Waipahu',\n",
       " 'Haleiwa',\n",
       " 'Kahala',\n",
       " 'Makiki',\n",
       " 'Kapahulu',\n",
       " 'Kalihi']"
      ]
     },
     "execution_count": 12,
     "metadata": {},
     "output_type": "execute_result"
    }
   ],
   "source": [
    "neighborhoods"
   ]
  },
  {
   "cell_type": "markdown",
   "id": "c56c582d",
   "metadata": {},
   "source": [
    "## Using the list of neighborhoods, generate descriptions of mock real estate listings"
   ]
  },
  {
   "cell_type": "code",
   "execution_count": 13,
   "id": "8dd1ac74",
   "metadata": {},
   "outputs": [],
   "source": [
    "class Listing(LanceModel):\n",
    "#     id: str = Field(description=\"Simple identifier of property\")\n",
    "    description: str = Field(description=\"Description of property\")\n",
    "    price: str = Field(description=\"Price of property in dollars\")\n",
    "    num_bedrooms: str = Field(description=\"Number of bedrooms\")\n",
    "    num_bathrooms: str = Field(description=\"Number of bathrooms\")\n",
    "    area: str = Field(description=\"Area of property in square feet\")\n",
    "    property_type: str = Field(description=\"Property type (condo, single-family home, etc)\")\n",
    "    neighborhood: str = Field(description=\"Neighborhood of property\")\n",
    "    neighborhood_description: str = Field(description=\"Description of neighborhood\")\n",
    "        \n",
    "class ListingResult(BaseModel):\n",
    "    listings: List[Listing] = Field(description=\"List of properties per neighborhood\")"
   ]
  },
  {
   "cell_type": "code",
   "execution_count": 14,
   "id": "33ced43f",
   "metadata": {},
   "outputs": [],
   "source": [
    "listing_parser = PydanticOutputParser(pydantic_object=ListingResult)"
   ]
  },
  {
   "cell_type": "code",
   "execution_count": 15,
   "id": "509952c6",
   "metadata": {},
   "outputs": [],
   "source": [
    "with open('./real_estate_prompt.txt') as f:\n",
    "    template = f.read()"
   ]
  },
  {
   "cell_type": "code",
   "execution_count": 16,
   "id": "58bea394",
   "metadata": {},
   "outputs": [],
   "source": [
    "neighborhood_prompt = PromptTemplate(\n",
    "    input_variables=[\"neighborhood\", \"region\", \"state\"],\n",
    "    template=template,\n",
    "    partial_variables={\"format_instructions\": listing_parser.get_format_instructions}\n",
    ")"
   ]
  },
  {
   "cell_type": "code",
   "execution_count": 17,
   "id": "a9bd04bf",
   "metadata": {},
   "outputs": [
    {
     "name": "stderr",
     "output_type": "stream",
     "text": [
      "/opt/homebrew/anaconda3/envs/home_agent/lib/python3.12/site-packages/langchain_core/_api/deprecation.py:119: LangChainDeprecationWarning: The class `LLMChain` was deprecated in LangChain 0.1.17 and will be removed in 0.3.0. Use RunnableSequence, e.g., `prompt | llm` instead.\n",
      "  warn_deprecated(\n"
     ]
    }
   ],
   "source": [
    "listings_chain = LLMChain(llm=llm, prompt=neighborhood_prompt)"
   ]
  },
  {
   "cell_type": "code",
   "execution_count": 18,
   "id": "1449cd91",
   "metadata": {},
   "outputs": [
    {
     "name": "stderr",
     "output_type": "stream",
     "text": [
      "  0%|                                                                                                                           | 0/15 [00:00<?, ?it/s]/opt/homebrew/anaconda3/envs/home_agent/lib/python3.12/site-packages/langchain_core/_api/deprecation.py:119: LangChainDeprecationWarning: The method `Chain.__call__` was deprecated in langchain 0.1.0 and will be removed in 0.3.0. Use invoke instead.\n",
      "  warn_deprecated(\n",
      "100%|██████████████████████████████████████████████████████████████████████████████████████████████████████████████████| 15/15 [02:12<00:00,  8.81s/it]\n"
     ]
    }
   ],
   "source": [
    "results = [\n",
    "    listings_chain(\n",
    "        {\n",
    "            \"neighborhood\": n, \n",
    "            \"region\": region, \n",
    "            \"state\": state\n",
    "        })\n",
    "    for n in tqdm(neighborhoods, position=0, leave=True)]"
   ]
  },
  {
   "cell_type": "code",
   "execution_count": 19,
   "id": "02cc4160",
   "metadata": {
    "scrolled": true
   },
   "outputs": [],
   "source": [
    "listings = list(chain(*[json.loads(result.get(\"text\")).get(\"listings\") for result in results]))"
   ]
  },
  {
   "cell_type": "code",
   "execution_count": 20,
   "id": "218a2290",
   "metadata": {},
   "outputs": [],
   "source": [
    "with open(\"./listings.txt\", \"w\") as f:\n",
    "    f.write(json.dumps(listings))"
   ]
  },
  {
   "cell_type": "code",
   "execution_count": 21,
   "id": "383d86bd",
   "metadata": {},
   "outputs": [],
   "source": [
    "listing_objs = [Listing(**listing) for listing in listings]"
   ]
  },
  {
   "cell_type": "markdown",
   "id": "80c7c6eb",
   "metadata": {},
   "source": [
    "# Semantic Search"
   ]
  },
  {
   "cell_type": "markdown",
   "id": "6a6de539",
   "metadata": {},
   "source": [
    "### Generate Embeddings"
   ]
  },
  {
   "cell_type": "code",
   "execution_count": 22,
   "id": "39474a3a",
   "metadata": {},
   "outputs": [
    {
     "name": "stderr",
     "output_type": "stream",
     "text": [
      "/opt/homebrew/anaconda3/envs/home_agent/lib/python3.12/site-packages/langchain_core/_api/deprecation.py:119: LangChainDeprecationWarning: The class `OpenAIEmbeddings` was deprecated in LangChain 0.0.9 and will be removed in 0.3.0. An updated version of the class exists in the langchain-openai package and should be used instead. To use it run `pip install -U langchain-openai` and import as `from langchain_openai import OpenAIEmbeddings`.\n",
      "  warn_deprecated(\n"
     ]
    }
   ],
   "source": [
    "embeddings = OpenAIEmbeddings()"
   ]
  },
  {
   "cell_type": "code",
   "execution_count": 23,
   "id": "5cdb48b7",
   "metadata": {},
   "outputs": [],
   "source": [
    "def generate_text(obj: Union[str, Listing, Neighborhood], id: int):\n",
    "    return (\n",
    "        f\"{obj.description} This {obj.property_type} is located in {obj.neighborhood}.\"\n",
    "        f\"{obj.neighborhood} is described as {obj.neighborhood_description}.\"\n",
    "        f\"It features {obj.num_bedrooms} bedrooms and {obj.num_bathrooms} bathrooms, \"\n",
    "        f\"covering an area of {obj.area} square feet. The listed price is {obj.price}.\"\n",
    "        f\"Property identifier: {id + 1}\"\n",
    "    )"
   ]
  },
  {
   "cell_type": "code",
   "execution_count": 24,
   "id": "1f16d7c8",
   "metadata": {},
   "outputs": [],
   "source": [
    "listing_data = [generate_text(obj=obj, id=idx) for idx, obj in enumerate(listing_objs)] "
   ]
  },
  {
   "cell_type": "code",
   "execution_count": 25,
   "id": "70ec505f",
   "metadata": {},
   "outputs": [],
   "source": [
    "lance = lancedb.connect(\"./.lancedb\")"
   ]
  },
  {
   "cell_type": "code",
   "execution_count": 26,
   "id": "343ee467",
   "metadata": {},
   "outputs": [],
   "source": [
    "db = vectorstore(lance,embedding=embeddings)"
   ]
  },
  {
   "cell_type": "code",
   "execution_count": 27,
   "id": "02047fc7",
   "metadata": {},
   "outputs": [],
   "source": [
    "db.add_texts(listing_data);"
   ]
  },
  {
   "cell_type": "markdown",
   "id": "2f580e38",
   "metadata": {},
   "source": [
    "# Augmented Response Generation"
   ]
  },
  {
   "cell_type": "code",
   "execution_count": 28,
   "id": "fffda3c8",
   "metadata": {},
   "outputs": [],
   "source": [
    "# Logic for Searching and Augmenting Listing Descriptions\n",
    "\n",
    "# The project must demonstrate a logical flow where buyer preferences are used to search and then augment the description of real estate listings. \n",
    "# The augmentation should personalize the listing without changing factual information."
   ]
  },
  {
   "cell_type": "code",
   "execution_count": 29,
   "id": "423394b2",
   "metadata": {},
   "outputs": [],
   "source": [
    "# Use of LLM for Generating Personalized Descriptions\n",
    "\n",
    "# The submission must utilize an LLM to generate personalized descriptions for the real estate listings based on buyer preferences. \n",
    "# The descriptions should be unique, appealing, and tailored to the preferences provided."
   ]
  },
  {
   "cell_type": "markdown",
   "id": "27e13651",
   "metadata": {},
   "source": [
    "### User Preference Questions"
   ]
  },
  {
   "cell_type": "code",
   "execution_count": 30,
   "id": "4badff15",
   "metadata": {},
   "outputs": [],
   "source": [
    "questions = [   \n",
    "    \"How big do you want your house to be?\" \n",
    "    \"What are 3 most important things for you in choosing this property?\", \n",
    "    \"Which amenities would you like?\", \n",
    "    \"Which transportation options are important to you?\",\n",
    "    \"How urban do you want your neighborhood to be?\",   \n",
    "]"
   ]
  },
  {
   "cell_type": "code",
   "execution_count": 31,
   "id": "f01bb9b9",
   "metadata": {},
   "outputs": [],
   "source": [
    "# persona = \"persona_1\"\n",
    "persona = \"persona_2\""
   ]
  },
  {
   "cell_type": "markdown",
   "id": "8b58b698",
   "metadata": {},
   "source": [
    "### Persona 1"
   ]
  },
  {
   "cell_type": "code",
   "execution_count": 32,
   "id": "0f4097fb",
   "metadata": {},
   "outputs": [],
   "source": [
    "persona_01_answers = [\n",
    "    \"A comfortable three-bedroom house with a spacious kitchen and a cozy living room.\",\n",
    "    \"A quiet neighborhood, good local schools, and convenient shopping options.\",\n",
    "    \"A backyard for gardening, a two-car garage, and a modern, energy-efficient heating system.\",\n",
    "    \"Easy access to a reliable bus line, proximity to a major highway, and bike-friendly roads.\",\n",
    "    \"A balance between suburban tranquility and access to urban amenities like restaurants and theaters.\"\n",
    "]"
   ]
  },
  {
   "cell_type": "markdown",
   "id": "50d05176",
   "metadata": {},
   "source": [
    "### Persona 2"
   ]
  },
  {
   "cell_type": "code",
   "execution_count": 33,
   "id": "46a3242d",
   "metadata": {},
   "outputs": [],
   "source": [
    "persona_02_answers = [\n",
    "    \"I'm looking for a small 1 bedroom condominium for myself\",\n",
    "    \"Trendy neighborhood close to shopping and nightlife, near the beach, great city views\",\n",
    "    \"Convenient parking, doorman and luxury\",\n",
    "    \"Easy access to a reliable bus line and current or planned stops of the light rail system\",\n",
    "    \"A big city neighborhood that is super lively\"\n",
    "]"
   ]
  },
  {
   "cell_type": "code",
   "execution_count": 34,
   "id": "c8c99073",
   "metadata": {},
   "outputs": [],
   "source": [
    "answers = \"\"\n",
    "\n",
    "match persona:\n",
    "    case \"persona_1\":\n",
    "        answers = persona_01_answers\n",
    "    case \"persona_2\":\n",
    "        answers = persona_02_answers"
   ]
  },
  {
   "cell_type": "markdown",
   "id": "3f5e7ed0",
   "metadata": {},
   "source": [
    "### Interactive Answers"
   ]
  },
  {
   "cell_type": "code",
   "execution_count": 35,
   "id": "eece28de",
   "metadata": {},
   "outputs": [],
   "source": [
    "#answers = [ ] \n",
    "#for question in questions:\n",
    "#    answer = input(question)\n",
    "#    answers.append(answer)"
   ]
  },
  {
   "cell_type": "markdown",
   "id": "1aec3c20",
   "metadata": {},
   "source": [
    "### Construct Conversation History"
   ]
  },
  {
   "cell_type": "code",
   "execution_count": 36,
   "id": "208b6946",
   "metadata": {},
   "outputs": [],
   "source": [
    "history = ChatMessageHistory()\n",
    "history.add_user_message(\n",
    "    (\n",
    "        f\"You are AI that will recommend user various properties.\"\n",
    "        \"The recommendations are based on answers to personal questions.\"\n",
    "        f\"Ask user {len(questions)} questions\"\n",
    "    )\n",
    ")\n",
    "    \n",
    "for i in range(len(questions)):\n",
    "    history.add_ai_message(questions[i])\n",
    "    history.add_user_message(answers[i])\n",
    "    \n",
    "summary_memory = ConversationSummaryMemory(\n",
    "    llm=llm,\n",
    "    memory_key=\"recommendation_summary\", \n",
    "    input_key=\"input\",\n",
    "    buffer=(\n",
    "        f\"The human answered {len(questions)} personal questions).\"\n",
    "    ),\n",
    "    return_messages=True\n",
    ")\n",
    "\n",
    "\n",
    "class MementoBufferMemory(ConversationBufferMemory):\n",
    "    def save_context(self, inputs: Dict[str, Any], outputs: Dict[str, str]) -> None:\n",
    "        input_str, output_str = self._get_input_output(inputs, outputs)\n",
    "        self.chat_memory.add_ai_message(output_str)\n",
    "    \n",
    "conversational_memory = MementoBufferMemory(\n",
    "    chat_memory=history,\n",
    "    memory_key=\"questions_and_answers\", \n",
    "    input_key=\"input\"\n",
    ")\n",
    "\n",
    "# Combined\n",
    "memory = CombinedMemory(memories=[conversational_memory, summary_memory])"
   ]
  },
  {
   "cell_type": "code",
   "execution_count": 37,
   "id": "b4ff0741",
   "metadata": {},
   "outputs": [],
   "source": [
    "RECOMMENDER_TEMPLATE = \"\"\"The following is a friendly conversation between a human and an AI Real Estate Recommender.\n",
    "The AI follows human instructions and provides real estate recommendations based on\n",
    "a human's persona derived from their answers to questions. Make sure that the neighborhood of the property matches\n",
    "the users preferences.\n",
    "\n",
    "Summary of Recommendations:\n",
    "{recommendation_summary}\n",
    "Personal Questions and Answers:\n",
    "{questions_and_answers}\n",
    "Human: {input}\n",
    "AI:\"\"\"\n",
    "PROMPT = PromptTemplate(\n",
    "    input_variables=[\"recommendation_summary\", \"input\", \"questions_and_answers\"],\n",
    "    template=RECOMMENDER_TEMPLATE\n",
    ")\n",
    "recommender = ConversationChain(llm=llm, verbose=True, memory=memory, prompt=PROMPT)"
   ]
  },
  {
   "cell_type": "code",
   "execution_count": 38,
   "id": "42b50090",
   "metadata": {},
   "outputs": [
    {
     "name": "stdout",
     "output_type": "stream",
     "text": [
      "\n",
      "\n",
      "\u001b[1m> Entering new ConversationChain chain...\u001b[0m\n",
      "Prompt after formatting:\n",
      "\u001b[32;1m\u001b[1;3mThe following is a friendly conversation between a human and an AI Real Estate Recommender.\n",
      "The AI follows human instructions and provides real estate recommendations based on\n",
      "a human's persona derived from their answers to questions. Make sure that the neighborhood of the property matches\n",
      "the users preferences.\n",
      "\n",
      "Summary of Recommendations:\n",
      "[SystemMessage(content='The human answered 4 personal questions).')]\n",
      "Personal Questions and Answers:\n",
      "Human: You are AI that will recommend user various properties.The recommendations are based on answers to personal questions.Ask user 4 questions\n",
      "AI: How big do you want your house to be?What are 3 most important things for you in choosing this property?\n",
      "Human: I'm looking for a small 1 bedroom condominium for myself\n",
      "AI: Which amenities would you like?\n",
      "Human: Trendy neighborhood close to shopping and nightlife, near the beach, great city views\n",
      "AI: Which transportation options are important to you?\n",
      "Human: Convenient parking, doorman and luxury\n",
      "AI: How urban do you want your neighborhood to be?\n",
      "Human: Easy access to a reliable bus line and current or planned stops of the light rail system\n",
      "Human: Summarize this conversationand generate a description of the ideal property and neighborhood for user based on their preferences.\n",
      "AI:\u001b[0m\n",
      "\n",
      "\u001b[1m> Finished chain.\u001b[0m\n"
     ]
    }
   ],
   "source": [
    "prediction = recommender.predict(input=\"Summarize this conversation\\\n",
    "and generate a description of the ideal property and neighborhood for user based on their preferences.\")"
   ]
  },
  {
   "cell_type": "code",
   "execution_count": 39,
   "id": "8d4f7041",
   "metadata": {},
   "outputs": [
    {
     "name": "stdout",
     "output_type": "stream",
     "text": [
      "Based on your preferences, I recommend a small 1 bedroom condominium in a trendy neighborhood close to shopping and nightlife, near the beach, with great city views. The ideal property should have convenient parking, a doorman, and luxury amenities. The neighborhood should have easy access to a reliable bus line and current or planned stops of the light rail system. This combination of features will provide you with the perfect urban living experience.\n"
     ]
    }
   ],
   "source": [
    "print(prediction)"
   ]
  },
  {
   "cell_type": "code",
   "execution_count": 40,
   "id": "90c8c474",
   "metadata": {
    "scrolled": true
   },
   "outputs": [],
   "source": [
    "similar_docs = db.similarity_search(prediction, k=3)"
   ]
  },
  {
   "cell_type": "code",
   "execution_count": 45,
   "id": "e2556174",
   "metadata": {},
   "outputs": [],
   "source": [
    "query = \"Casually address the user. Based on the property listings in the context, describe to me why each property would be a good fit.\\\n",
    "Explain how the listing matches the user preferences as they expressed in the chat history.\\\n",
    "Include a catchy nickname for this property followed by the property identifier. Use emojis for expression.\\\n",
    "Finally, include listing details beneath each explanation including price, area, number of bedrooms and bathrooms.\""
   ]
  },
  {
   "cell_type": "markdown",
   "id": "0e92ca18",
   "metadata": {},
   "source": [
    "# Provide a concise summary of each property to the user"
   ]
  },
  {
   "cell_type": "code",
   "execution_count": 46,
   "id": "48a44b43",
   "metadata": {},
   "outputs": [
    {
     "name": "stdout",
     "output_type": "stream",
     "text": [
      "Hey there! 🌴 Looking for your dream beachfront property in Pearl City? Check out this stunning 2-bedroom, 2-bathroom condo in Pearl City Beachfront - Paradise by the Ocean (Property 10). With high-end finishes, a spacious balcony, and resort-style amenities, this unit is perfect for water sports enthusiasts like yourself. Priced at $1,200,000, this 1,500 sqft condo offers the ultimate island living experience.\n",
      "\n",
      "Hey beach lover! 🏖️ Want to wake up to ocean views in Waikiki? This 2-bedroom, 2-bathroom condo in Waikiki - Beachfront Bliss (Property 1) is calling your name. With a gourmet kitchen, resort-style amenities, and a private beach access, this $1,500,000, 1,500 sqft unit is perfect for your beachfront retreat.\n",
      "\n",
      "Hey luxury seeker! 🏙️ Looking for a spacious condo with panoramic views in Aiea? This 4-bedroom, 3-bathroom condominium in Aiea - Urban Oasis (Property 25) is the perfect fit for you. With high-end finishes, resort-style amenities, and easy access to Honolulu, this $1,200,000, 2,500 sqft unit offers the best of both worlds.\n"
     ]
    }
   ],
   "source": [
    "prompt = PromptTemplate(\n",
    "    template=\"{query}\\nContext: {context}\",\n",
    "    input_variables=[\"query\", \"context\"],\n",
    ")\n",
    "chain = load_qa_chain(llm, prompt = prompt, chain_type=\"stuff\")\n",
    "print(chain.run(input_documents=similar_docs, memory=memory, query = query))"
   ]
  },
  {
   "cell_type": "markdown",
   "id": "7e409a8e",
   "metadata": {},
   "source": [
    "## Spot check data accuracy"
   ]
  },
  {
   "cell_type": "markdown",
   "id": "b27fdd92",
   "metadata": {},
   "source": [
    "Check the original listing objects, making sure the property data is consistent. ID's are zero indexed in code, so subtract 1 from number listed above. (Listing id's will vary since the results are non-deterministic.)"
   ]
  },
  {
   "cell_type": "code",
   "execution_count": 48,
   "id": "06ae21de",
   "metadata": {},
   "outputs": [
    {
     "name": "stdout",
     "output_type": "stream",
     "text": [
      "description='Experience luxury living in this stunning 4-bedroom, 3-bathroom condominium in the heart of Aiea. With panoramic views of the ocean and mountains, this spacious unit offers high-end finishes and top-of-the-line appliances. Enjoy resort-style amenities including a pool, fitness center, and concierge services. Conveniently located near major highways for easy access to Honolulu and beyond. Explore nearby hiking trails and beaches, or indulge in shopping and dining at the nearby Aiea Shopping Center.' price='$1,200,000' num_bedrooms='4' num_bathrooms='3' area='2,500 sqft' property_type='Condominium' neighborhood='Aiea' neighborhood_description='Aiea offers a mix of urban convenience and natural beauty, with top-rated schools and easy access to outdoor activities.'\n"
     ]
    }
   ],
   "source": [
    "print(listing_objs[24])"
   ]
  },
  {
   "cell_type": "code",
   "execution_count": null,
   "id": "6f0058d3",
   "metadata": {},
   "outputs": [],
   "source": []
  }
 ],
 "metadata": {
  "kernelspec": {
   "display_name": "Python 3 (ipykernel)",
   "language": "python",
   "name": "python3"
  },
  "language_info": {
   "codemirror_mode": {
    "name": "ipython",
    "version": 3
   },
   "file_extension": ".py",
   "mimetype": "text/x-python",
   "name": "python",
   "nbconvert_exporter": "python",
   "pygments_lexer": "ipython3",
   "version": "3.12.3"
  }
 },
 "nbformat": 4,
 "nbformat_minor": 5
}
